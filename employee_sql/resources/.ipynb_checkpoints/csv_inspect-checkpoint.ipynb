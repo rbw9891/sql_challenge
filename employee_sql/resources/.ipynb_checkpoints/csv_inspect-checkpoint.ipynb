{
 "cells": [
  {
   "cell_type": "code",
   "execution_count": 3,
   "id": "38186eb7",
   "metadata": {},
   "outputs": [],
   "source": [
    "import pandas as pd"
   ]
  },
  {
   "cell_type": "code",
   "execution_count": 8,
   "id": "37602965",
   "metadata": {},
   "outputs": [],
   "source": [
    "departments = pd.read_csv(\"departments.csv\")\n",
    "dept_emp = pd.read_csv(\"dept_emp.csv\")\n",
    "dept_manager = pd.read_csv(\"dept_manager.csv\")\n",
    "employees = pd.read_csv(\"employees.csv\")\n",
    "salaries = pd.read_csv(\"salaries.csv\")\n",
    "titles = pd.read_csv(\"titles.csv\")"
   ]
  },
  {
   "cell_type": "code",
   "execution_count": 13,
   "id": "711c502f",
   "metadata": {},
   "outputs": [
    {
     "data": {
      "text/plain": [
       "title_id    object\n",
       "title       object\n",
       "dtype: object"
      ]
     },
     "execution_count": 13,
     "metadata": {},
     "output_type": "execute_result"
    }
   ],
   "source": [
    "titles.dtypes"
   ]
  },
  {
   "cell_type": "code",
   "execution_count": null,
   "id": "7fef9bb9",
   "metadata": {},
   "outputs": [],
   "source": []
  }
 ],
 "metadata": {
  "kernelspec": {
   "display_name": "PythonData",
   "language": "python",
   "name": "pythondata"
  },
  "language_info": {
   "codemirror_mode": {
    "name": "ipython",
    "version": 3
   },
   "file_extension": ".py",
   "mimetype": "text/x-python",
   "name": "python",
   "nbconvert_exporter": "python",
   "pygments_lexer": "ipython3",
   "version": "3.9.13"
  }
 },
 "nbformat": 4,
 "nbformat_minor": 5
}
